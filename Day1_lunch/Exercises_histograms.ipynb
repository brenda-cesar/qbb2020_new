{
 "cells": [
  {
   "cell_type": "markdown",
   "metadata": {},
   "source": [
    "# Exercise 1.1 Modify the introductory plot so that each subplot shares the x- and y-axis scales."
   ]
  },
  {
   "cell_type": "code",
   "execution_count": 390,
   "metadata": {},
   "outputs": [],
   "source": [
    "import matplotlib.pyplot as plt #import libraries to make coding easier\n",
    "import numpy as np"
   ]
  },
  {
   "cell_type": "code",
   "execution_count": 391,
   "metadata": {},
   "outputs": [],
   "source": [
    "#First graph\n",
    "x = [1,2,3,4,5]\n",
    "x2 = [1,2,3,4,5]"
   ]
  },
  {
   "cell_type": "code",
   "execution_count": 392,
   "metadata": {},
   "outputs": [],
   "source": [
    "#second graph\n",
    "y = [1,4,9,16,25]\n",
    "y2 = [1,6,18,64,125] "
   ]
  },
  {
   "cell_type": "code",
   "execution_count": 393,
   "metadata": {},
   "outputs": [
    {
     "data": {
      "image/png": "[encoded data removed]",
      "text/plain": [
       "<Figure size 432x288 with 2 Axes>"
      ]
     },
     "metadata": {
      "needs_background": "light"
     },
     "output_type": "display_data"
    }
   ],
   "source": [
    "#Graph both plots as subplots\n",
    "fig, ax = plt.subplots( nrows=2 )\n",
    "ax[0].plot( x, y, '.')\n",
    "ax[1].plot( x2, y2, '.')\n",
    "fig.suptitle(\"Exercise 1: Squared and Cubed Plot\", fontsize=16)\n",
    "ax[0].set_title('X squared')\n",
    "ax[1].set_title('X cubed')\n",
    "ax[0].set_xlabel('X')\n",
    "ax[1].set_xlabel('X')\n",
    "ax[0].set_ylabel('Y')\n",
    "ax[1].set_ylabel('Y')\n",
    "fig.tight_layout(pad=1.0)\n",
    "plt.show()"
   ]
  },
  {
   "cell_type": "markdown",
   "metadata": {},
   "source": [
    "# Exercise 1.2 Tidy up the plot of K4 chromosome distributions so that it is easier to understand. "
   ]
  },
  {
   "cell_type": "code",
   "execution_count": 621,
   "metadata": {},
   "outputs": [],
   "source": [
    "import pandas as pd\n",
    "import matplotlib.pyplot as plt\n",
    "import numpy as np"
   ]
  },
  {
   "cell_type": "code",
   "execution_count": 622,
   "metadata": {},
   "outputs": [
    {
     "data": {
      "text/plain": [
       "('chr', 'start', 'end')"
      ]
     },
     "execution_count": 622,
     "metadata": {},
     "output_type": "execute_result"
    }
   ],
   "source": [
    "#Name of columns\n",
    "bed_columns = (\"chr\",\"start\",\"end\")\n",
    "bed_columns"
   ]
  },
  {
   "cell_type": "code",
   "execution_count": 623,
   "metadata": {},
   "outputs": [
    {
     "data": {
      "text/html": [
       "<div>\n",
       "<style scoped>\n",
       "    .dataframe tbody tr th:only-of-type {\n",
       "        vertical-align: middle;\n",
       "    }\n",
       "\n",
       "    .dataframe tbody tr th {\n",
       "        vertical-align: top;\n",
       "    }\n",
       "\n",
       "    .dataframe thead th {\n",
       "        text-align: right;\n",
       "    }\n",
       "</style>\n",
       "<table border=\"1\" class=\"dataframe\">\n",
       "  <thead>\n",
       "    <tr style=\"text-align: right;\">\n",
       "      <th></th>\n",
       "      <th>chr</th>\n",
       "      <th>start</th>\n",
       "      <th>end</th>\n",
       "    </tr>\n",
       "  </thead>\n",
       "  <tbody>\n",
       "    <tr>\n",
       "      <th>0</th>\n",
       "      <td>3L</td>\n",
       "      <td>15823270</td>\n",
       "      <td>15830715</td>\n",
       "    </tr>\n",
       "    <tr>\n",
       "      <th>1</th>\n",
       "      <td>2R</td>\n",
       "      <td>11451787</td>\n",
       "      <td>11459612</td>\n",
       "    </tr>\n",
       "    <tr>\n",
       "      <th>2</th>\n",
       "      <td>3R</td>\n",
       "      <td>21665759</td>\n",
       "      <td>21673392</td>\n",
       "    </tr>\n",
       "    <tr>\n",
       "      <th>3</th>\n",
       "      <td>2R</td>\n",
       "      <td>20324929</td>\n",
       "      <td>20331038</td>\n",
       "    </tr>\n",
       "    <tr>\n",
       "      <th>4</th>\n",
       "      <td>3R</td>\n",
       "      <td>19859679</td>\n",
       "      <td>19864278</td>\n",
       "    </tr>\n",
       "    <tr>\n",
       "      <th>...</th>\n",
       "      <td>...</td>\n",
       "      <td>...</td>\n",
       "      <td>...</td>\n",
       "    </tr>\n",
       "    <tr>\n",
       "      <th>3825</th>\n",
       "      <td>3R</td>\n",
       "      <td>565835</td>\n",
       "      <td>566082</td>\n",
       "    </tr>\n",
       "    <tr>\n",
       "      <th>3826</th>\n",
       "      <td>2L</td>\n",
       "      <td>10439373</td>\n",
       "      <td>10442085</td>\n",
       "    </tr>\n",
       "    <tr>\n",
       "      <th>3827</th>\n",
       "      <td>3R</td>\n",
       "      <td>4477321</td>\n",
       "      <td>4479529</td>\n",
       "    </tr>\n",
       "    <tr>\n",
       "      <th>3828</th>\n",
       "      <td>3L</td>\n",
       "      <td>711347</td>\n",
       "      <td>711871</td>\n",
       "    </tr>\n",
       "    <tr>\n",
       "      <th>3829</th>\n",
       "      <td>2L</td>\n",
       "      <td>6792695</td>\n",
       "      <td>6795077</td>\n",
       "    </tr>\n",
       "  </tbody>\n",
       "</table>\n",
       "<p>3830 rows × 3 columns</p>\n",
       "</div>"
      ],
      "text/plain": [
       "     chr     start       end\n",
       "0     3L  15823270  15830715\n",
       "1     2R  11451787  11459612\n",
       "2     3R  21665759  21673392\n",
       "3     2R  20324929  20331038\n",
       "4     3R  19859679  19864278\n",
       "...   ..       ...       ...\n",
       "3825  3R    565835    566082\n",
       "3826  2L  10439373  10442085\n",
       "3827  3R   4477321   4479529\n",
       "3828  3L    711347    711871\n",
       "3829  2L   6792695   6795077\n",
       "\n",
       "[3830 rows x 3 columns]"
      ]
     },
     "execution_count": 623,
     "metadata": {},
     "output_type": "execute_result"
    }
   ],
   "source": [
    "#Read file\n",
    "df_k4 = pd.read_table(\"/Users/cmdb/qbb2020/data/K4me3.bed\", names=bed_columns)\n",
    "df_k4 "
   ]
  },
  {
   "cell_type": "code",
   "execution_count": 624,
   "metadata": {},
   "outputs": [
    {
     "data": {
      "text/plain": [
       "3R                     897\n",
       "2R                     799\n",
       "3L                     773\n",
       "2L                     713\n",
       "X                      580\n",
       "4                       65\n",
       "Y                        2\n",
       "Y_CP007111v1_random      1\n",
       "Name: chr, dtype: int64"
      ]
     },
     "execution_count": 624,
     "metadata": {},
     "output_type": "execute_result"
    }
   ],
   "source": [
    "#Sort values by type of chromosome, analyse only the chromosome column and count the number of times the chromosome appears\n",
    "df_k4 = df_k4.sort_values(by=\"chr\")\n",
    "df_k4 = df_k4.loc[:,\"chr\"]\n",
    "df_k4 = df_k4.value_counts()\n",
    "df_k4"
   ]
  },
  {
   "cell_type": "code",
   "execution_count": 625,
   "metadata": {},
   "outputs": [
    {
     "data": {
      "image/png": "[encoded data removed]",
      "text/plain": [
       "<Figure size 432x288 with 1 Axes>"
      ]
     },
     "metadata": {
      "needs_background": "light"
     },
     "output_type": "display_data"
    }
   ],
   "source": [
    "#Graph the data as a bar graph\n",
    "fig, ax = plt.subplots()\n",
    "ax.bar(df_k4.index,df_k4) #x=df_k4.index y=df_k4\n",
    "ax.set_title('K4 Methylation Chromosome distribution')\n",
    "ax.set_xlabel('Chromosome')\n",
    "ax.set_ylabel('Distribution')\n",
    "plt.xticks(rotation=10) #Rotates the axis labels\n",
    "plt.show()"
   ]
  },
  {
   "cell_type": "markdown",
   "metadata": {},
   "source": [
    "# Exercise 1.3 Plot K4, K9, and K27 chromosome distributions on the same plot as subplots."
   ]
  },
  {
   "cell_type": "code",
   "execution_count": 626,
   "metadata": {},
   "outputs": [],
   "source": [
    "bed_columns = (\"chr\",\"start\",\"end\")"
   ]
  },
  {
   "cell_type": "code",
   "execution_count": 627,
   "metadata": {},
   "outputs": [],
   "source": [
    "df_k4 = pd.read_table(\"/Users/cmdb/qbb2020/data/K4me3.bed\", names=bed_columns)\n",
    "df_k9 = pd.read_table(\"/Users/cmdb/qbb2020/data/K9me3.bed\", names=bed_columns)\n",
    "df_k27 = pd.read_table(\"/Users/cmdb/qbb2020/data/K27me3.bed\", names=bed_columns)"
   ]
  },
  {
   "cell_type": "code",
   "execution_count": 628,
   "metadata": {},
   "outputs": [],
   "source": [
    "df_k4 = df_k4.sort_values(by=\"chr\").loc[:,\"chr\"].value_counts()\n",
    "df_k9 = df_k9.sort_values(by=\"chr\").loc[:,\"chr\"].value_counts()\n",
    "df_k27 = df_k27.sort_values(by=\"chr\").loc[:,\"chr\"].value_counts()"
   ]
  },
  {
   "cell_type": "code",
   "execution_count": 629,
   "metadata": {},
   "outputs": [],
   "source": [
    "import matplotlib.gridspec as gridspec #Allows us to change the size of our graphs"
   ]
  },
  {
   "cell_type": "code",
   "execution_count": 630,
   "metadata": {},
   "outputs": [
    {
     "data": {
      "text/plain": [
       "<BarContainer object of 7 artists>"
      ]
     },
     "execution_count": 630,
     "metadata": {},
     "output_type": "execute_result"
    },
    {
     "data": {
      "image/png": "[encoded data removed]",
      "text/plain": [
       "<Figure size 432x288 with 3 Axes>"
      ]
     },
     "metadata": {
      "needs_background": "light"
     },
     "output_type": "display_data"
    }
   ],
   "source": [
    "fig = plt.figure(1) #will make a single figure that can then be subdivided \n",
    "fig.suptitle(\"Chromosome Distributions for Different Lysin Methylations\", fontsize=12) #Title\n",
    "gridspec.GridSpec(2,150) #make grid of 2 rows and 150 columns\n",
    "plt.subplot2grid((2,150), (0,0), colspan=40, rowspan=2) #make subplot for K4 that starts at 0,0 and has a length of 40\n",
    "plt.title('K4')\n",
    "plt.xlabel('Chromosome')\n",
    "plt.ylabel('Distribution')\n",
    "plt.xticks(rotation=90)\n",
    "plt.bar(df_k4.index,df_k4) #Data goes last\n",
    "plt.subplot2grid((2,150), (0,50), colspan=40, rowspan=2)  #make subplot for K9 that starts at column 50 and has a length of 40\n",
    "plt.title('K9')\n",
    "plt.xlabel('Chromosome')\n",
    "plt.xticks(rotation=90)\n",
    "plt.bar(df_k9.index,df_k9)\n",
    "plt.subplot2grid((2,150), (0,100), colspan=40, rowspan=2) #make subplot for K27 that starts at column 100 and has a length of 40\n",
    "plt.title('K27')\n",
    "plt.xlabel('Chromosome')\n",
    "plt.xticks(rotation=90)\n",
    "plt.bar(df_k27.index,df_k27)"
   ]
  },
  {
   "cell_type": "markdown",
   "metadata": {},
   "source": [
    "# Exercise 1.4 Plot K4, K9, and K27 width distributions on the same plot as subplots.\n",
    "\n"
   ]
  },
  {
   "cell_type": "code",
   "execution_count": 643,
   "metadata": {},
   "outputs": [],
   "source": [
    "bed_columns = (\"chr\",\"start\",\"end\")"
   ]
  },
  {
   "cell_type": "code",
   "execution_count": 644,
   "metadata": {},
   "outputs": [],
   "source": [
    "df_k4 = pd.read_table(\"/Users/cmdb/qbb2020/data/K4me3.bed\", names=bed_columns)\n",
    "df_k9 = pd.read_table(\"/Users/cmdb/qbb2020/data/K9me3.bed\", names=bed_columns)\n",
    "df_k27 = pd.read_table(\"/Users/cmdb/qbb2020/data/K27me3.bed\", names=bed_columns)"
   ]
  },
  {
   "cell_type": "code",
   "execution_count": 645,
   "metadata": {},
   "outputs": [],
   "source": [
    "df_k4.loc[ : , \"width\"] = df_k4.loc[ : , \"end\"] - df_k4.loc[ : , \"start\"] #How to calculate width of methylation\n",
    "df_k9.loc[ : , \"width\"] = df_k9.loc[ : , \"end\"] - df_k9.loc[ : , \"start\"]\n",
    "df_k27.loc[ : , \"width\"] = df_k4.loc[ : , \"end\"] - df_k27.loc[ : , \"start\"]"
   ]
  },
  {
   "cell_type": "code",
   "execution_count": 640,
   "metadata": {},
   "outputs": [],
   "source": [
    "df_k4 = df_k4[['chr', 'width']].sort_values(by=\"chr\")\n",
    "df_k9 = df_k9[['chr', 'width']].sort_values(by=\"chr\")\n",
    "df_k27 = df_k27[['chr', 'width']].sort_values(by=\"chr\")"
   ]
  },
  {
   "cell_type": "code",
   "execution_count": 649,
   "metadata": {},
   "outputs": [
    {
     "data": {
      "image/png": "[encoded data removed]",
      "text/plain": [
       "<Figure size 432x288 with 3 Axes>"
      ]
     },
     "metadata": {
      "needs_background": "light"
     },
     "output_type": "display_data"
    }
   ],
   "source": [
    "fig, ax = plt.subplots(1,3)\n",
    "ax[0].hist(df_k4.loc[:,\"width\"])\n",
    "ax[1].hist(df_k9.loc[:,\"width\"])\n",
    "ax[2].hist(df_k27.loc[:,\"width\"])\n",
    "fig.suptitle(\"Width Distributions of Three Different Lysin Methylations\", fontsize=16)\n",
    "ax[0].set_title('K4')\n",
    "ax[1].set_title('K9')\n",
    "ax[2].set_title('K27')\n",
    "ax[1].set_xlabel('Width')\n",
    "ax[0].set_ylabel('Methylation')\n",
    "fig.tight_layout(pad=0.7)\n",
    "plt.show()"
   ]
  },
  {
   "cell_type": "code",
   "execution_count": null,
   "metadata": {},
   "outputs": [],
   "source": []
  },
  {
   "cell_type": "code",
   "execution_count": null,
   "metadata": {},
   "outputs": [],
   "source": []
  },
  {
   "cell_type": "code",
   "execution_count": null,
   "metadata": {},
   "outputs": [],
   "source": []
  },
  {
   "cell_type": "code",
   "execution_count": null,
   "metadata": {},
   "outputs": [],
   "source": []
  },
  {
   "cell_type": "code",
   "execution_count": null,
   "metadata": {},
   "outputs": [],
   "source": []
  },
  {
   "cell_type": "code",
   "execution_count": null,
   "metadata": {},
   "outputs": [],
   "source": []
  },
  {
   "cell_type": "code",
   "execution_count": null,
   "metadata": {},
   "outputs": [],
   "source": []
  },
  {
   "cell_type": "code",
   "execution_count": null,
   "metadata": {},
   "outputs": [],
   "source": []
  },
  {
   "cell_type": "code",
   "execution_count": null,
   "metadata": {},
   "outputs": [],
   "source": []
  }
 ],
 "metadata": {
  "kernelspec": {
   "display_name": "Python 3",
   "language": "python",
   "name": "python3"
  },
  "language_info": {
   "codemirror_mode": {
    "name": "ipython",
    "version": 3
   },
   "file_extension": ".py",
   "mimetype": "text/x-python",
   "name": "python",
   "nbconvert_exporter": "python",
   "pygments_lexer": "ipython3",
   "version": "3.6.10"
  }
 },
 "nbformat": 4,
 "nbformat_minor": 4
}
