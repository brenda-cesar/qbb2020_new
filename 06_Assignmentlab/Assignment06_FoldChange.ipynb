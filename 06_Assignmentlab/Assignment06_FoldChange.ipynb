{
 "cells": [
  {
   "cell_type": "code",
   "execution_count": 169,
   "metadata": {},
   "outputs": [],
   "source": [
    "reference = open(\"mm10_refseq_genes_chr6_50M_60M.bed\", \"r\")"
   ]
  },
  {
   "cell_type": "code",
   "execution_count": 170,
   "metadata": {},
   "outputs": [
    {
     "data": {
      "text/plain": [
       "<_io.TextIOWrapper name='mm10_refseq_genes_chr6_50M_60M.bed' mode='r' encoding='UTF-8'>"
      ]
     },
     "execution_count": 170,
     "metadata": {},
     "output_type": "execute_result"
    }
   ],
   "source": [
    "reference"
   ]
  },
  {
   "cell_type": "code",
   "execution_count": 171,
   "metadata": {},
   "outputs": [],
   "source": [
    "Meth55 = open(\"E55Epi_SRR3083929_1.chr6_bismark_bt2_pe_sorted.bedGraph\", \"r\")"
   ]
  },
  {
   "cell_type": "code",
   "execution_count": 172,
   "metadata": {},
   "outputs": [
    {
     "data": {
      "text/plain": [
       "<_io.TextIOWrapper name='E55Epi_SRR3083929_1.chr6_bismark_bt2_pe_sorted.bedGraph' mode='r' encoding='UTF-8'>"
      ]
     },
     "execution_count": 172,
     "metadata": {},
     "output_type": "execute_result"
    }
   ],
   "source": [
    "Meth55"
   ]
  },
  {
   "cell_type": "code",
   "execution_count": 173,
   "metadata": {},
   "outputs": [],
   "source": [
    "Meth4 = open(\"E40ICM_SRR3083926_1.chr6_bismark_bt2_pe_sorted.bedGraph\", \"r\")"
   ]
  },
  {
   "cell_type": "code",
   "execution_count": 174,
   "metadata": {},
   "outputs": [
    {
     "data": {
      "text/plain": [
       "<_io.TextIOWrapper name='E40ICM_SRR3083926_1.chr6_bismark_bt2_pe_sorted.bedGraph' mode='r' encoding='UTF-8'>"
      ]
     },
     "execution_count": 174,
     "metadata": {},
     "output_type": "execute_result"
    }
   ],
   "source": [
    "Meth4"
   ]
  },
  {
   "cell_type": "code",
   "execution_count": 175,
   "metadata": {},
   "outputs": [],
   "source": [
    "ref_genes = []\n",
    "for line in reference:\n",
    "    info_line = []\n",
    "    info = line.split('\\t')\n",
    "    info_line.append(info[12])\n",
    "    info_line.append(info[4])\n",
    "    info_line.append(info[5])\n",
    "    ref_genes.append(info_line)"
   ]
  },
  {
   "cell_type": "code",
   "execution_count": 233,
   "metadata": {},
   "outputs": [
    {
     "data": {
      "text/plain": [
       "[['Mpp6', '50110240', '50198598'],\n",
       " ['Mpp6', '50110240', '50198598'],\n",
       " ['Mpp6', '50110240', '50198598'],\n",
       " ['Dfna5', '50207402', '50261769'],\n",
       " ['Osbpl3', '50293326', '50382837'],\n",
       " ['Osbpl3', '50293326', '50456170'],\n",
       " ['Cycs', '50562562', '50566474'],\n",
       " ['5430402O13Rik', '50566642', '50594865'],\n",
       " ['5430402O13Rik', '50566642', '50594865'],\n",
       " ['Mir6371', '50572397', '50572508']]"
      ]
     },
     "execution_count": 233,
     "metadata": {},
     "output_type": "execute_result"
    }
   ],
   "source": [
    "ref_genes[0:10]"
   ]
  },
  {
   "cell_type": "code",
   "execution_count": 177,
   "metadata": {},
   "outputs": [],
   "source": [
    "Meth55_loc = []\n",
    "i = 0\n",
    "for line in Meth55:\n",
    "    if i == 0:\n",
    "        i += 1\n",
    "    else: \n",
    "        info = line.split('\\t')\n",
    "        info_line = []\n",
    "        info_line.append(info[1])\n",
    "        info_line.append(float(info[3]))\n",
    "        Meth55_loc.append(info_line)"
   ]
  },
  {
   "cell_type": "code",
   "execution_count": 234,
   "metadata": {},
   "outputs": [
    {
     "data": {
      "text/plain": [
       "[['50000557', 0.0],\n",
       " ['50000626', 100.0],\n",
       " ['50000643', 100.0],\n",
       " ['50001247', 50.0],\n",
       " ['50001543', 0.0],\n",
       " ['50001663', 100.0],\n",
       " ['50001745', 100.0],\n",
       " ['50002769', 0.0],\n",
       " ['50002808', 100.0],\n",
       " ['50002809', 0.0]]"
      ]
     },
     "execution_count": 234,
     "metadata": {},
     "output_type": "execute_result"
    }
   ],
   "source": [
    "Meth55_loc[0:10]"
   ]
  },
  {
   "cell_type": "code",
   "execution_count": 179,
   "metadata": {},
   "outputs": [],
   "source": [
    "Meth4_loc = []\n",
    "i = 0\n",
    "for line in Meth4:\n",
    "    if i == 0:\n",
    "        i += 1\n",
    "    else: \n",
    "        info = line.split('\\t')\n",
    "        info_line = []\n",
    "        info_line.append(info[1])\n",
    "        info_line.append(float(info[3]))\n",
    "        Meth4_loc.append(info_line)"
   ]
  },
  {
   "cell_type": "code",
   "execution_count": 235,
   "metadata": {},
   "outputs": [
    {
     "data": {
      "text/plain": [
       "[['49999926', 0.0],\n",
       " ['49999965', 0.0],\n",
       " ['50000074', 0.0],\n",
       " ['50000077', 0.0],\n",
       " ['50000556', 0.0],\n",
       " ['50000754', 0.0],\n",
       " ['50001246', 0.0],\n",
       " ['50001322', 0.0],\n",
       " ['50003676', 0.0],\n",
       " ['50003688', 0.0]]"
      ]
     },
     "execution_count": 235,
     "metadata": {},
     "output_type": "execute_result"
    }
   ],
   "source": [
    "Meth4_loc[0:10]"
   ]
  },
  {
   "cell_type": "code",
   "execution_count": 181,
   "metadata": {},
   "outputs": [],
   "source": [
    "#find methylation per gene\n",
    "MethScore = []\n",
    "i = 0\n",
    "for line in Meth4_loc:\n",
    "    if line[1] == 0:\n",
    "        continue\n",
    "    else:\n",
    "        if int(line[0]) > int(ref_genes[i][1]) and int(line[0]) < int(ref_genes[i][2]):\n",
    "            info = []\n",
    "            info.append(ref_genes[i][0])\n",
    "            info.append(line[1])\n",
    "            MethScore.append(info)\n",
    "        else:\n",
    "            if int(line[0]) < int(ref_genes[i][1]):\n",
    "                continue \n",
    "            elif int(line[0]) > int(ref_genes[i][2]):\n",
    "                i += 1\n",
    "                if i >= len(ref_genes):\n",
    "                    break\n",
    "                else:\n",
    "                    info = []\n",
    "                    info.append(ref_genes[i][0])\n",
    "                    info.append(line[1])\n",
    "                    MethScore.append(info)"
   ]
  },
  {
   "cell_type": "code",
   "execution_count": 236,
   "metadata": {},
   "outputs": [
    {
     "data": {
      "text/plain": [
       "[['Mpp6', 74.74834437086092],\n",
       " ['Mpp6', 100.0],\n",
       " ['Mpp6', 100.0],\n",
       " ['Dfna5', 84.11320754716981],\n",
       " ['Osbpl3', 82.56129032258065],\n",
       " ['Osbpl3', 81.27536231884058],\n",
       " ['Cycs', 49.5],\n",
       " ['5430402O13Rik', 83.74358974358974],\n",
       " ['5430402O13Rik', 100.0],\n",
       " ['Mir6371', 25.0]]"
      ]
     },
     "execution_count": 236,
     "metadata": {},
     "output_type": "execute_result"
    }
   ],
   "source": [
    "MethScore[0:10]"
   ]
  },
  {
   "cell_type": "code",
   "execution_count": 225,
   "metadata": {},
   "outputs": [],
   "source": [
    "#find methylation per gene for E4\n",
    "score = 0 #will sum the methylation %\n",
    "MethScoreE4 = [] #will store all gene names and methylation scores for each gene\n",
    "ScoreInfo = [] #will score in a single line a single gene name and its score so that its added to Methscore together \n",
    "site_num = 0  #will count the number of sites in a gene\n",
    "i = 0 #will count the gene position so that we stay in the samne gene for the sites that are within that gene's range\n",
    "for line in Meth4_loc: #for each line of the Meth4 data\n",
    "    if line[1] == 0: #if methylation of that site is 0 skip it\n",
    "        continue\n",
    "    else: #if methylation of that site is not 0 do this\n",
    "        if int(line[0]) > int(ref_genes[i][1]) and int(line[0]) < int(ref_genes[i][2]): #if the site is within a gene\n",
    "            score += int(line[1]) #save the meth score\n",
    "            site_num += 1 #count the number of sites \n",
    "        else: #if its not within the range of a gene\n",
    "            if int(line[0]) < int(ref_genes[i][1]): #if its before a gene\n",
    "                continue #skip it\n",
    "            elif int(line[0]) > int(ref_genes[i][2]): #if its in the range of the next gene\n",
    "                i += 1 #change the position of the gene \n",
    "                if i >= len(ref_genes): #if its the last gene\n",
    "                    ScoreInfo = [] #clean last gene's info\n",
    "                    ScoreInfo.append(ref_genes[i-1][0]) #add the gene's name\n",
    "                    meth_score = score / site_num #calculate the total score\n",
    "                    ScoreInfo.append(meth_score) #add the gene's meth score\n",
    "                    MethScoreE4.append(ScoreInfo) #add the total info to the list of total genes\n",
    "                    break #finish the loop\n",
    "                else: #if it's a new gene remember the info on this new gene and save the info on the last gene\n",
    "                    ScoreInfo = [] \n",
    "                    ScoreInfo.append(ref_genes[i-1][0])\n",
    "                    meth_score = score / site_num\n",
    "                    ScoreInfo.append(meth_score)\n",
    "                    MethScoreE4.append(ScoreInfo)\n",
    "                    score = 0\n",
    "                    site_num = 0\n",
    "                    score += int(line[1]) \n",
    "                    site_num += 1"
   ]
  },
  {
   "cell_type": "code",
   "execution_count": 237,
   "metadata": {},
   "outputs": [
    {
     "data": {
      "text/plain": [
       "[['Mpp6', 74.74834437086092],\n",
       " ['Mpp6', 100.0],\n",
       " ['Mpp6', 100.0],\n",
       " ['Dfna5', 84.11320754716981],\n",
       " ['Osbpl3', 82.56129032258065],\n",
       " ['Osbpl3', 81.27536231884058],\n",
       " ['Cycs', 49.5],\n",
       " ['5430402O13Rik', 83.74358974358974],\n",
       " ['5430402O13Rik', 100.0],\n",
       " ['Mir6371', 25.0]]"
      ]
     },
     "execution_count": 237,
     "metadata": {},
     "output_type": "execute_result"
    }
   ],
   "source": [
    "MethScoreE4[0:10]"
   ]
  },
  {
   "cell_type": "code",
   "execution_count": 231,
   "metadata": {},
   "outputs": [],
   "source": [
    "#find methylation per gene for E5\n",
    "score = 0 #will sum the methylation %\n",
    "MethScoreE55 = [] #will store all gene names and methylation scores for each gene\n",
    "ScoreInfo = [] #will score in a single line a single gene name and its score so that its added to Methscore together \n",
    "site_num = 0  #will count the number of sites in a gene\n",
    "i = 0 #will count the gene position so that we stay in the samne gene for the sites that are within that gene's range\n",
    "for line in Meth55_loc: #for each line of the Meth4 data\n",
    "        if int(line[0]) > int(ref_genes[i][1]) and int(line[0]) < int(ref_genes[i][2]): #if the site is within a gene\n",
    "            score += int(line[1]) #save the meth score\n",
    "            site_num += 1 #count the number of sites \n",
    "        else: #if its not within the range of a gene\n",
    "            if int(line[0]) < int(ref_genes[i][1]): #if its before a gene\n",
    "                continue #skip it\n",
    "            elif int(line[0]) > int(ref_genes[i][2]): #if its in the range of the next gene\n",
    "                i += 1 #change the position of the gene \n",
    "                if i >= len(ref_genes): #if its the last gene\n",
    "                    ScoreInfo = [] #clean last gene's info\n",
    "                    ScoreInfo.append(ref_genes[i-1][0]) #add the gene's name\n",
    "                    meth_score = score / site_num #calculate the total score\n",
    "                    ScoreInfo.append(meth_score) #add the gene's meth score\n",
    "                    MethScoreE55.append(ScoreInfo) #add the total info to the list of total genes\n",
    "                    break #finish the loop\n",
    "                else: #if it's a new gene remember the info on this new gene and save the info on the last gene\n",
    "                    ScoreInfo = [] \n",
    "                    ScoreInfo.append(ref_genes[i-1][0])\n",
    "                    meth_score = score / site_num\n",
    "                    ScoreInfo.append(meth_score)\n",
    "                    MethScoreE55.append(ScoreInfo)\n",
    "                    score = 0\n",
    "                    site_num = 0\n",
    "                    score += int(line[1]) \n",
    "                    site_num += 1"
   ]
  },
  {
   "cell_type": "code",
   "execution_count": 238,
   "metadata": {},
   "outputs": [
    {
     "data": {
      "text/plain": [
       "[['Mpp6', 71.58937198067633],\n",
       " ['Mpp6', 100.0],\n",
       " ['Mpp6', 100.0],\n",
       " ['Dfna5', 65.27098321342926],\n",
       " ['Osbpl3', 76.26102502979738],\n",
       " ['Osbpl3', 73.8079365079365],\n",
       " ['Cycs', 69.6842105263158],\n",
       " ['5430402O13Rik', 65.75545851528385],\n",
       " ['5430402O13Rik', 0.0],\n",
       " ['Mir6371', 0.0]]"
      ]
     },
     "execution_count": 238,
     "metadata": {},
     "output_type": "execute_result"
    }
   ],
   "source": [
    "MethScoreE55[0:10]"
   ]
  },
  {
   "cell_type": "code",
   "execution_count": 240,
   "metadata": {},
   "outputs": [],
   "source": [
    "i = 0\n",
    "FoldChange_Total = []\n",
    "for score in MethScoreE55:\n",
    "    info = []\n",
    "    fold_change = score[1]/MethScoreE4[i][1]\n",
    "    info.append(score[0])\n",
    "    info.append(fold_change)\n",
    "    FoldChange_Total.append(info)\n",
    "    i += 1"
   ]
  },
  {
   "cell_type": "code",
   "execution_count": 253,
   "metadata": {},
   "outputs": [
    {
     "data": {
      "text/plain": [
       "152"
      ]
     },
     "execution_count": 253,
     "metadata": {},
     "output_type": "execute_result"
    }
   ],
   "source": [
    "len(FoldChange_Total)"
   ]
  },
  {
   "cell_type": "code",
   "execution_count": 254,
   "metadata": {},
   "outputs": [
    {
     "data": {
      "text/plain": [
       "[['Mpp6', 0.9577385637531787],\n",
       " ['Mpp6', 1.0],\n",
       " ['Mpp6', 1.0],\n",
       " ['Dfna5', 0.7759897062161846],\n",
       " ['Osbpl3', 0.9236898397764003],\n",
       " ['Osbpl3', 0.9081219006860947],\n",
       " ['Cycs', 1.4077618288144604],\n",
       " ['5430402O13Rik', 0.7851999026626058],\n",
       " ['5430402O13Rik', 0.0],\n",
       " ['Mir6371', 0.0],\n",
       " ['4921507P07Rik', 0.8032876712328767],\n",
       " ['Npvf', 0.6765000000000001],\n",
       " ['C530044C16Rik', 0.7664316662994786],\n",
       " ['Mir148a', 0.6666666666666666],\n",
       " ['Gm6559', 0.6075843285145611]]"
      ]
     },
     "execution_count": 254,
     "metadata": {},
     "output_type": "execute_result"
    }
   ],
   "source": [
    "FoldChange_Total[0:15]"
   ]
  },
  {
   "cell_type": "code",
   "execution_count": 255,
   "metadata": {},
   "outputs": [],
   "source": [
    "with open('FoldChange.txt', 'w') as FoldChange:\n",
    "    for item in FoldChange_Total:\n",
    "        FoldChange.write('%s\\n' % item)"
   ]
  },
  {
   "cell_type": "code",
   "execution_count": 249,
   "metadata": {},
   "outputs": [],
   "source": []
  },
  {
   "cell_type": "code",
   "execution_count": null,
   "metadata": {},
   "outputs": [],
   "source": []
  }
 ],
 "metadata": {
  "kernelspec": {
   "display_name": "Python 3",
   "language": "python",
   "name": "python3"
  },
  "language_info": {
   "codemirror_mode": {
    "name": "ipython",
    "version": 3
   },
   "file_extension": ".py",
   "mimetype": "text/x-python",
   "name": "python",
   "nbconvert_exporter": "python",
   "pygments_lexer": "ipython3",
   "version": "3.6.10"
  }
 },
 "nbformat": 4,
 "nbformat_minor": 4
}
